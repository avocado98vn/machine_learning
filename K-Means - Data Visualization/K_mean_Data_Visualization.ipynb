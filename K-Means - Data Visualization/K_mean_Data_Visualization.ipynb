{
  "nbformat": 4,
  "nbformat_minor": 0,
  "metadata": {
    "colab": {
      "name": "K-mean_Data_Visualization.ipynb",
      "provenance": [],
      "authorship_tag": "ABX9TyNvMFLTIIMr7Pgv6LGPkNQB",
      "include_colab_link": true
    },
    "kernelspec": {
      "name": "python3",
      "display_name": "Python 3"
    }
  },
  "cells": [
    {
      "cell_type": "markdown",
      "metadata": {
        "id": "view-in-github",
        "colab_type": "text"
      },
      "source": [
        "<a href=\"https://colab.research.google.com/github/avocado98vn/machine_learning/blob/main/K-Means%20-%20Data%20Visualization/K_mean_Data_Visualization.ipynb\" target=\"_parent\"><img src=\"https://colab.research.google.com/assets/colab-badge.svg\" alt=\"Open In Colab\"/></a>"
      ]
    },
    {
      "cell_type": "code",
      "metadata": {
        "id": "i9gEiWk0LWz6"
      },
      "source": [
        "import pygame\r\n",
        "from random import randint\r\n",
        "import math\r\n",
        "from sklearn.cluster import KMeans"
      ],
      "execution_count": null,
      "outputs": []
    },
    {
      "cell_type": "markdown",
      "metadata": {
        "id": "mUjKGQzWQIFK"
      },
      "source": [
        "Create a function to calculate the distance between two-point."
      ]
    },
    {
      "cell_type": "code",
      "metadata": {
        "id": "05oxaZZx3IyC"
      },
      "source": [
        "def distance(p1, p2):\r\n",
        "\treturn math.sqrt((p1[0]-p2[0]) * (p1[0]-p2[0]) + (p1[1] - p2[1]) * (p1[1] - p2[1]))"
      ],
      "execution_count": null,
      "outputs": []
    },
    {
      "cell_type": "markdown",
      "metadata": {
        "id": "HRcP0z46QpV-"
      },
      "source": [
        "Initialize pygame and variables."
      ]
    },
    {
      "cell_type": "code",
      "metadata": {
        "id": "eF-1U0sT3IJN"
      },
      "source": [
        "pygame.init()\r\n",
        "\r\n",
        "screen = pygame.display.set_mode((1200, 700))\r\n",
        "\r\n",
        "pygame.display.set_caption(\"kmeans visualization with scikit-learn\")\r\n",
        "\r\n",
        "running = True\r\n",
        "\t\r\n",
        "clock = pygame.time.Clock()"
      ],
      "execution_count": null,
      "outputs": []
    },
    {
      "cell_type": "markdown",
      "metadata": {
        "id": "uUUFftGcRZBP"
      },
      "source": [
        "Colors for background, points, ..."
      ]
    },
    {
      "cell_type": "code",
      "metadata": {
        "id": "-2ylnkqz3abh"
      },
      "source": [
        "BACKGROUND = (214, 214, 214)\r\n",
        "BLACK = (0, 0, 0)\r\n",
        "BACKGROUND_PANEL = (249, 255, 230)\r\n",
        "WHITE = (255, 255, 255)\r\n",
        "\r\n",
        "RED = (255, 0, 0)\r\n",
        "GREEN = (0, 255, 0)\r\n",
        "BLUE = (0, 0, 255)\r\n",
        "YELLOW = (147, 153, 35)\r\n",
        "PURPLE = (255, 0, 255)\r\n",
        "SKY = (0, 255, 255)\r\n",
        "ORANGE = (255, 125, 25)\r\n",
        "GRAPE = (100, 25, 125)\r\n",
        "GRASS = (55, 155, 65)\r\n",
        "\r\n",
        "COLORS = [RED, GREEN, BLUE, YELLOW, PURPLE, SKY, ORANGE, GRAPE, GRASS]"
      ],
      "execution_count": null,
      "outputs": []
    },
    {
      "cell_type": "markdown",
      "metadata": {
        "id": "iAwYqgSMRi36"
      },
      "source": [
        "Fonts for texts."
      ]
    },
    {
      "cell_type": "code",
      "metadata": {
        "id": "e0kVkK194QZq"
      },
      "source": [
        "font = pygame.font.SysFont('sans', 40)\r\n",
        "font_small = pygame.font.SysFont('sans', 20)\r\n",
        "text_plus = font.render('+', True, WHITE)\r\n",
        "text_minus = font.render('-', True, WHITE)\r\n",
        "text_run = font.render(\"Run\", True, WHITE)\r\n",
        "text_random = font.render(\"Random\", True, WHITE)\r\n",
        "text_algorithm = font.render(\"Algorithm\", True, WHITE)\r\n",
        "text_reset = font.render(\"Reset\", True, WHITE)"
      ],
      "execution_count": null,
      "outputs": []
    },
    {
      "cell_type": "code",
      "metadata": {
        "id": "48WYKuAS4STK"
      },
      "source": [
        "K = 0\r\n",
        "error = 0\r\n",
        "points = []\t\r\n",
        "clusters = []\r\n",
        "labels = []"
      ],
      "execution_count": null,
      "outputs": []
    },
    {
      "cell_type": "markdown",
      "metadata": {
        "id": "MgCZc_JBR79s"
      },
      "source": [
        "Main loop"
      ]
    },
    {
      "cell_type": "code",
      "metadata": {
        "id": "IMVBJM6x3Rsh"
      },
      "source": [
        "while running:\r\n",
        "\tclock.tick(60)\r\n",
        "\tscreen.fill(BACKGROUND)\r\n",
        "\tmouse_x, mouse_y = pygame.mouse.get_pos()\r\n",
        "\r\n",
        "\t# Draw interface\r\n",
        "\t# Draw panel\r\n",
        "\tpygame.draw.rect(screen, BLACK, (50, 50, 700, 500))\r\n",
        "\tpygame.draw.rect(screen, BACKGROUND_PANEL, (55, 55, 690, 490))\r\n",
        "\r\n",
        "\t# K button + \r\n",
        "\tpygame.draw.rect(screen, BLACK, (850, 50, 50, 50))\r\n",
        "\tscreen.blit(text_plus, (860, 50))\r\n",
        "\r\n",
        "\t# K button -\r\n",
        "\tpygame.draw.rect(screen, BLACK, (950, 50, 50, 50))\r\n",
        "\tscreen.blit(text_minus, (960, 50))\r\n",
        "\r\n",
        "\t# K value\r\n",
        "\ttext_k = font.render(\"K = \" + str(K), True, BLACK)\r\n",
        "\tscreen.blit(text_k, (1050, 50))\r\n",
        "\r\n",
        "\t# run button\r\n",
        "\tpygame.draw.rect(screen, BLACK, (850, 150, 150, 50))\r\n",
        "\tscreen.blit(text_run, (900, 150))\r\n",
        "\r\n",
        "\t# random button\r\n",
        "\tpygame.draw.rect(screen, BLACK, (850, 250, 150, 50))\r\n",
        "\tscreen.blit(text_random, (850, 250))\r\n",
        "\r\n",
        "\t# Reset button\r\n",
        "\tpygame.draw.rect(screen, BLACK, (850, 550, 150, 50))\r\n",
        "\tscreen.blit(text_reset, (850, 550))\t\r\n",
        "\r\n",
        "\t# Algorithm button\r\n",
        "\tpygame.draw.rect(screen, BLACK, (850, 450, 150, 50))\r\n",
        "\tscreen.blit(text_algorithm, (850, 450))\t\r\n",
        "\t# Draw mouse position when mouse is in panel\r\n",
        "\tif 50 < mouse_x < 750 and 50 < mouse_y < 550:\r\n",
        "\t\ttext_mouse = font_small.render(\"(\" + str(mouse_x - 50) + \",\" + str(mouse_y - 50) + \")\",True, BLACK)\r\n",
        "\t\tscreen.blit(text_mouse, (mouse_x + 10, mouse_y))\r\n",
        "\r\n",
        "\t# End draw interface\r\n",
        "\r\n",
        "\tfor event in pygame.event.get():\r\n",
        "\t\tif event.type == pygame.QUIT:\r\n",
        "\t\t\trunning = False\r\n",
        "\t\tif event.type == pygame.MOUSEBUTTONDOWN:\r\n",
        "\t\t\t# Create point on panel\r\n",
        "\t\t\tif 50 < mouse_x < 750 and 50 < mouse_y < 550:\r\n",
        "\t\t\t\tlabels = []\r\n",
        "\t\t\t\tpoint = [mouse_x -50, mouse_y-50]\r\n",
        "\t\t\t\tpoints.append(point)\r\n",
        "\t\t\t\tprint(points)\r\n",
        "\r\n",
        "\t\t\t# Change K button +\r\n",
        "\t\t\tif 850 < mouse_x < 900 and 50 < mouse_y < 100:\r\n",
        "\t\t\t\tif K < 8:\r\n",
        "\t\t\t\t\tK = K+1\r\n",
        "\t\t\t\tprint(\"Press K +\")\r\n",
        "\t\t\t\r\n",
        "\t\t\t# Change K button -\r\n",
        "\t\t\tif 950 < mouse_x < 1000 and 50 < mouse_y < 100:\r\n",
        "\t\t\t\tif K > 0:\r\n",
        "\t\t\t\t\tK -= 1\r\n",
        "\t\t\t\tprint(\"Press K -\")\r\n",
        "\r\n",
        "\t\t\t# Run button\r\n",
        "\t\t\tif 850 < mouse_x < 1000 and 150 < mouse_y < 200:\r\n",
        "\t\t\t\tlabels = []\r\n",
        "\r\n",
        "\t\t\t\tif clusters == []:\r\n",
        "\t\t\t\t\tcontinue\r\n",
        "\r\n",
        "\t\t\t\t# Assign points to closet clusters\r\n",
        "\t\t\t\tfor p in points:\r\n",
        "\t\t\t\t\tdistances_to_cluster = []\r\n",
        "\t\t\t\t\tfor c in clusters:\r\n",
        "\t\t\t\t\t\tdis = distance(p, c)\r\n",
        "\t\t\t\t\t\tdistances_to_cluster.append(dis)\r\n",
        "\t\t\t\t\t\r\n",
        "\t\t\t\t\tmin_distance = min(distances_to_cluster)\r\n",
        "\t\t\t\t\tlabel = distances_to_cluster.index(min_distance)\r\n",
        "\t\t\t\t\tlabels.append(label)\r\n",
        "\r\n",
        "\t\t\t\t# Update clusters\r\n",
        "\t\t\t\tfor i in range(K):\r\n",
        "\t\t\t\t\tsum_x = 0\r\n",
        "\t\t\t\t\tsum_y = 0\r\n",
        "\t\t\t\t\tcount = 0\r\n",
        "\t\t\t\t\tfor j in range(len(points)):\r\n",
        "\t\t\t\t\t\tif labels[j] == i:\r\n",
        "\t\t\t\t\t\t\tsum_x += points[j][0]\r\n",
        "\t\t\t\t\t\t\tsum_y += points[j][1]\r\n",
        "\t\t\t\t\t\t\tcount += 1\r\n",
        "\r\n",
        "\t\t\t\t\tif count != 0:\r\n",
        "\t\t\t\t\t\tnew_cluster_x = sum_x/count\r\n",
        "\t\t\t\t\t\tnew_cluster_y = sum_y/count\r\n",
        "\t\t\t\t\t\tclusters[i] = [new_cluster_x, new_cluster_y]\r\n",
        "\r\n",
        "\t\t\t\tprint(\"run pressed\")\r\n",
        "\r\n",
        "\t\t\t# Random button\r\n",
        "\t\t\tif 850 < mouse_x < 1000 and 250 < mouse_y < 300:\r\n",
        "\t\t\t\tlabels = []\r\n",
        "\t\t\t\tclusters = []\r\n",
        "\t\t\t\tfor i in range(K):\r\n",
        "\t\t\t\t\trandom_point = [randint(0,700), randint(0,500)]\r\n",
        "\t\t\t\t\tclusters.append(random_point)\r\n",
        "\t\t\t\tprint(\"random pressed\")\r\n",
        "\r\n",
        "\t\t\t# Reset button\r\n",
        "\t\t\tif 850 < mouse_x < 1000 and 550 < mouse_y < 600:\r\n",
        "\t\t\t\tK = 0\r\n",
        "\t\t\t\terror = 0\r\n",
        "\t\t\t\tpoints = []\t\r\n",
        "\t\t\t\tclusters = []\r\n",
        "\t\t\t\tlabels = []\r\n",
        "\t\t\t\tprint(\"reset button pressed\")\r\n",
        "\r\n",
        "\t\t\t# Algorithm \r\n",
        "\t\t\tif 850 < mouse_x < 1000 and 450 < mouse_y < 500:\r\n",
        "\t\t\t\ttry:\r\n",
        "\t\t\t\t\tkmeans = KMeans(n_clusters=K).fit(points) \r\n",
        "\t\t\t\t\tlabels = kmeans.predict(points)\r\n",
        "\t\t\t\t\tclusters = kmeans.cluster_centers_\r\n",
        "\t\t\t\texcept:\r\n",
        "\t\t\t\t\tprint(\"error\")\r\n",
        "\t\t\t\tprint(\"Algorithm button pressed\")\r\n",
        "\r\n",
        "\t# Draw cluster\r\n",
        "\tfor i in range(len(clusters)):\r\n",
        "\t\tpygame.draw.circle(screen, COLORS[i], (int(clusters[i][0]) + 50, int(clusters[i][1]) + 50), 10)\r\n",
        "\r\n",
        "\t# Draw point\r\n",
        "\tfor i in range(len(points)):\t\r\n",
        "\t\tpygame.draw.circle(screen, BLACK, (points[i][0] + 50, points[i][1] + 50), 6)\r\n",
        "\t\t\r\n",
        "\t\tif labels == []:\r\n",
        "\t\t\tpygame.draw.circle(screen, WHITE, (points[i][0] + 50, points[i][1] + 50), 5)\r\n",
        "\t\telse:\r\n",
        "\t\t\tpygame.draw.circle(screen, COLORS[labels[i]], (points[i][0] + 50, points[i][1] + 50), 5)\r\n",
        "\r\n",
        "\t# Calculate and draw error\r\n",
        "\terror = 0\r\n",
        "\tif clusters != [] and labels != []:\r\n",
        "\t\tfor i in range(len(points)):\r\n",
        "\t\t\terror += distance(points[i], clusters[labels[i]])\r\n",
        "\r\n",
        "\ttext_error = font.render(\"Error = \" + str(int(error)), True, BLACK)\r\n",
        "\tscreen.blit(text_error, (850, 350))\r\n",
        "\r\n",
        "\tpygame.display.flip()\r\n",
        "\r\n",
        "pygame.quit()\r\n"
      ],
      "execution_count": null,
      "outputs": []
    }
  ]
}