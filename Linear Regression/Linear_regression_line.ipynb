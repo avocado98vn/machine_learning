{
  "nbformat": 4,
  "nbformat_minor": 0,
  "metadata": {
    "colab": {
      "name": "Linear_regression_line.ipynb",
      "provenance": [],
      "authorship_tag": "ABX9TyP0WQT4opKfhEMtNMa04eH8",
      "include_colab_link": true
    },
    "kernelspec": {
      "name": "python3",
      "display_name": "Python 3"
    }
  },
  "cells": [
    {
      "cell_type": "markdown",
      "metadata": {
        "id": "view-in-github",
        "colab_type": "text"
      },
      "source": [
        "<a href=\"https://colab.research.google.com/github/avocado98vn/machine_learning/blob/main/Linear%20Regression/Linear_regression_line.ipynb\" target=\"_parent\"><img src=\"https://colab.research.google.com/assets/colab-badge.svg\" alt=\"Open In Colab\"/></a>"
      ]
    },
    {
      "cell_type": "markdown",
      "metadata": {
        "id": "Csn8Jrq0K_Ci"
      },
      "source": [
        "Draw line linear regression using scikit-learn and Matplotlib."
      ]
    },
    {
      "cell_type": "code",
      "metadata": {
        "id": "j68-Cp4BKy8X"
      },
      "source": [
        "import numpy as np\r\n",
        "import matplotlib\r\n",
        "import matplotlib.pyplot as plt\r\n",
        "from sklearn import linear_model"
      ],
      "execution_count": null,
      "outputs": []
    },
    {
      "cell_type": "code",
      "metadata": {
        "id": "0iaDXK8vK0_V"
      },
      "source": [
        "# Random data\r\n",
        "A = np.array([[2, 5, 7, 9, 11, 16, 19, 23, 22, 29, 29, 35, 37, 40, 46]]).T\r\n",
        "b = np.array([[2, 3, 4, 5, 6, 7, 8, 9, 10, 11, 12, 13, 14, 15, 16]]).T"
      ],
      "execution_count": null,
      "outputs": []
    },
    {
      "cell_type": "code",
      "metadata": {
        "id": "3vNYeRQBK3TC"
      },
      "source": [
        "# Create model\r\n",
        "lr = linear_model.LinearRegression()\r\n",
        "# Fit (train the model)\r\n",
        "lr.fit(A, b)"
      ],
      "execution_count": null,
      "outputs": []
    },
    {
      "cell_type": "code",
      "metadata": {
        "id": "O5bZJQ9qK5Nx"
      },
      "source": [
        "# y = ax+b, a: coefficient, b: intercept\r\n",
        "print(lr.intercept_)\r\n",
        "print(lr.coef_)"
      ],
      "execution_count": null,
      "outputs": []
    },
    {
      "cell_type": "code",
      "metadata": {
        "id": "cH2ufYbMK8_y"
      },
      "source": [
        "# Draw random data\r\n",
        "plt.plot(A, b, 'ro')"
      ],
      "execution_count": null,
      "outputs": []
    },
    {
      "cell_type": "code",
      "metadata": {
        "id": "1Jb3KZRkKwga"
      },
      "source": [
        "# Draw line\r\n",
        "x0 = np.array([[1, 46]]).T\r\n",
        "y0 = x0*lr.coef_ + lr.intercept_\r\n",
        "\r\n",
        "plt.plot(x0, y0)\r\n",
        "plt.show()"
      ],
      "execution_count": null,
      "outputs": []
    }
  ]
}