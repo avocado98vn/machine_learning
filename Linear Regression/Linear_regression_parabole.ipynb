{
  "nbformat": 4,
  "nbformat_minor": 0,
  "metadata": {
    "colab": {
      "name": "Linear_regression_parabole.ipynb",
      "provenance": [],
      "authorship_tag": "ABX9TyNIIfNlRhUUrd1ZxL24LzQs",
      "include_colab_link": true
    },
    "kernelspec": {
      "name": "python3",
      "display_name": "Python 3"
    }
  },
  "cells": [
    {
      "cell_type": "markdown",
      "metadata": {
        "id": "view-in-github",
        "colab_type": "text"
      },
      "source": [
        "<a href=\"https://colab.research.google.com/github/avocado98vn/machine_learning/blob/main/Linear%20Regression/Linear_regression_parabole.ipynb\" target=\"_parent\"><img src=\"https://colab.research.google.com/assets/colab-badge.svg\" alt=\"Open In Colab\"/></a>"
      ]
    },
    {
      "cell_type": "markdown",
      "metadata": {
        "id": "qGHqKC3lN1MS"
      },
      "source": [
        "Draw a parabole."
      ]
    },
    {
      "cell_type": "code",
      "metadata": {
        "id": "Xo1ROgO9NgFp"
      },
      "source": [
        "import numpy as np\r\n",
        "import matplotlib.pyplot as plt"
      ],
      "execution_count": null,
      "outputs": []
    },
    {
      "cell_type": "code",
      "metadata": {
        "id": "fKjJUz6mNiUF"
      },
      "source": [
        "#random data\r\n",
        "b = [2, 5, 7, 9, 11, 16, 19, 23, 22, 29, 29, 35, 37, 40, 46, 42, 39, 31, 30, 28, 20, 15, 10, 6]\r\n",
        "A = [2, 3, 4, 5, 6, 7, 8, 9, 10, 11, 12, 13, 14, 15, 16, 17, 18, 19, 20, 21, 22, 23, 24, 25]"
      ],
      "execution_count": null,
      "outputs": []
    },
    {
      "cell_type": "code",
      "metadata": {
        "id": "zhiGbHbdNkI1"
      },
      "source": [
        "#visualize data\r\n",
        "plt.plot(A, b, 'ro')"
      ],
      "execution_count": null,
      "outputs": []
    },
    {
      "cell_type": "code",
      "metadata": {
        "id": "VsTUpBjuNluw"
      },
      "source": [
        "# Change row vector to column vector\r\n",
        "A = np.array([A]).T\r\n",
        "b = np.array([b]).T"
      ],
      "execution_count": null,
      "outputs": []
    },
    {
      "cell_type": "code",
      "metadata": {
        "id": "HQPXrXaLNnVS"
      },
      "source": [
        "# Create A square\r\n",
        "x_square = np.array([A[:,0]**2]).T\r\n",
        "A = np.concatenate((x_square, A), axis = 1)"
      ],
      "execution_count": null,
      "outputs": []
    },
    {
      "cell_type": "code",
      "metadata": {
        "id": "PwmnxjjgNpOT"
      },
      "source": [
        "# Create vector 1\r\n",
        "ones = np.ones((A.shape[0], 1), dtype = np.int8)"
      ],
      "execution_count": null,
      "outputs": []
    },
    {
      "cell_type": "code",
      "metadata": {
        "id": "jCrDa9_zNqyv"
      },
      "source": [
        "# Combine 1 and A\r\n",
        "A = np.concatenate((A, ones), axis = 1)"
      ],
      "execution_count": null,
      "outputs": []
    },
    {
      "cell_type": "code",
      "metadata": {
        "id": "CfLYZx1vNsmq"
      },
      "source": [
        "# Use fomular\r\n",
        "x = np.linalg.inv(A.transpose().dot(A)).dot(A.transpose()).dot(b)"
      ],
      "execution_count": null,
      "outputs": []
    },
    {
      "cell_type": "code",
      "metadata": {
        "id": "rYDM7vy6NuHk"
      },
      "source": [
        "# Test data to draw\r\n",
        "x0 = np.linspace(1, 25, 10000)\r\n",
        "y0 = x0*x0*x[0][0] + x0*x[1][0] + x[2][0]\r\n",
        "plt.plot(x0, y0)"
      ],
      "execution_count": null,
      "outputs": []
    },
    {
      "cell_type": "code",
      "metadata": {
        "id": "ODhFn2nYNwL-"
      },
      "source": [
        "# Test predicting data\r\n",
        "x_test = 12\r\n",
        "y_test = x_test*x_test*x[0][0] + x_test*x[1][0] + x[2][0]\r\n",
        "print(y_test)\r\n",
        "\r\n",
        "plt.show()"
      ],
      "execution_count": null,
      "outputs": []
    }
  ]
}