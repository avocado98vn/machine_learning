{
  "nbformat": 4,
  "nbformat_minor": 0,
  "metadata": {
    "colab": {
      "name": "Gradient_descent_draw_line.ipynb",
      "provenance": [],
      "authorship_tag": "ABX9TyNu0JBn3Belx/ni1bjbUjKW",
      "include_colab_link": true
    },
    "kernelspec": {
      "name": "python3",
      "display_name": "Python 3"
    }
  },
  "cells": [
    {
      "cell_type": "markdown",
      "metadata": {
        "id": "view-in-github",
        "colab_type": "text"
      },
      "source": [
        "<a href=\"https://colab.research.google.com/github/avocado98vn/machine_learning/blob/main/Gradient%20Descent/Gradient_descent_draw_line.ipynb\" target=\"_parent\"><img src=\"https://colab.research.google.com/assets/colab-badge.svg\" alt=\"Open In Colab\"/></a>"
      ]
    },
    {
      "cell_type": "markdown",
      "metadata": {
        "id": "j1KKNc3Hcnk4"
      },
      "source": [
        "Gradient descent. The derivative calculation to find the closest exact line going through the points. Besides, drawing animation to know how exactly the lines move."
      ]
    },
    {
      "cell_type": "code",
      "metadata": {
        "id": "utps6fM7bJ_K"
      },
      "source": [
        "import numpy as np\r\n",
        "import matplotlib.pyplot as plt\r\n",
        "from sklearn import linear_model\r\n",
        "import matplotlib.animation as anm"
      ],
      "execution_count": null,
      "outputs": []
    },
    {
      "cell_type": "code",
      "metadata": {
        "id": "jKCTBzqLbN6I"
      },
      "source": [
        "def cost(x):\r\n",
        "    m = A.shape[0]\r\n",
        "    return 0.5/m * np.linalg.norm(A.dot(x) - b, 2)**2"
      ],
      "execution_count": null,
      "outputs": []
    },
    {
      "cell_type": "code",
      "metadata": {
        "id": "wfL3W8DXbPfS"
      },
      "source": [
        "def grad(x):\r\n",
        "    m = A.shape[0]\r\n",
        "    return 1/m *A.T.dot(A.dot(x) - b)"
      ],
      "execution_count": null,
      "outputs": []
    },
    {
      "cell_type": "code",
      "metadata": {
        "id": "pFos5aRCbRW-"
      },
      "source": [
        "def check_grad(x):\r\n",
        "    eps = 1e-4\r\n",
        "    g = np.zeros_like(x)\r\n",
        "    for i in range(len(x)):\r\n",
        "        x1 = x.copy()\r\n",
        "        x2 = x.copy()\r\n",
        "        x1[i] += eps\r\n",
        "        x2[i] -= eps\r\n",
        "        g[i] = (cost(x1) - cost(x2))/(2*eps)\r\n",
        "    g_grad = grad(x)\r\n",
        "    if np.linalg.norm(g - g_grad) > 1e-5:\r\n",
        "        print('warning!')"
      ],
      "execution_count": null,
      "outputs": []
    },
    {
      "cell_type": "code",
      "metadata": {
        "id": "mDGIfHyFbThN"
      },
      "source": [
        "def gradient_descent(x_init, learning_rate, iteration):\r\n",
        "    m = A.shape[0]\r\n",
        "    x_list = [x_init]\r\n",
        "    for i in range(iteration):\r\n",
        "        x_new = x_list[-1] - learning_rate*grad(x_list[-1])\r\n",
        "        x_list.append(x_new)\r\n",
        "    return x_list"
      ],
      "execution_count": null,
      "outputs": []
    },
    {
      "cell_type": "code",
      "metadata": {
        "id": "_pMerukpbW0t"
      },
      "source": [
        "A = np.array([[2, 9, 7, 9, 11, 16, 25, 23, 22, 29, 29, 35, 37, 40, 46]]).T\r\n",
        "b = np.array([[2, 3, 4, 5, 6, 7, 8, 9, 10, 11, 12, 13, 14, 15, 16]]).T"
      ],
      "execution_count": null,
      "outputs": []
    },
    {
      "cell_type": "code",
      "metadata": {
        "id": "30jKhwNXbYOM"
      },
      "source": [
        "fig1 = plt.figure(\"GD for linear regression\")\r\n",
        "ax = plt.axes(xlim=(-10, 60), ylim=(-1, 20))\r\n",
        "plt.plot(A, b, 'ro')"
      ],
      "execution_count": null,
      "outputs": []
    },
    {
      "cell_type": "code",
      "metadata": {
        "id": "SDzwkujMbjAW"
      },
      "source": [
        "lr = linear_model.LinearRegression()\r\n",
        "lr.fit(A, b)\r\n",
        "x0_gd = np.linspace(1, 46, 2)\r\n",
        "y0_sklearn = lr.intercept_[0] + lr.coef_[0][0]*x0_gd\r\n",
        "plt.plot(x0_gd, y0_sklearn, color=\"green\")"
      ],
      "execution_count": null,
      "outputs": []
    },
    {
      "cell_type": "code",
      "metadata": {
        "id": "mjqtngdebkrr"
      },
      "source": [
        "ones = np.ones((A.shape[0], 1), dtype=np.int8)\r\n",
        "A = np.concatenate((A, ones), axis=1)"
      ],
      "execution_count": null,
      "outputs": []
    },
    {
      "cell_type": "code",
      "metadata": {
        "id": "q6DcqaUbbmUj"
      },
      "source": [
        "#Random initial line\r\n",
        "x_init = np.array([[1.], [2.]])\r\n",
        "y0_init = x_init[0][0]*x0_gd + x_init[1][0]\r\n",
        "plt.plot(x0_gd, y0_init, color=\"black\")"
      ],
      "execution_count": null,
      "outputs": []
    },
    {
      "cell_type": "code",
      "metadata": {
        "id": "6i5vXQpMbqMf"
      },
      "source": [
        "check_grad(x_init)"
      ],
      "execution_count": null,
      "outputs": []
    },
    {
      "cell_type": "code",
      "metadata": {
        "id": "8FSNpEZvbscn"
      },
      "source": [
        "iteration = 90\r\n",
        "learning_rate = 0.0001\r\n",
        "x_list = gradient_descent(x_init, learning_rate, iteration)"
      ],
      "execution_count": null,
      "outputs": []
    },
    {
      "cell_type": "code",
      "metadata": {
        "id": "YaUho0X6buWu"
      },
      "source": [
        "#plot black x_list\r\n",
        "for i in range(len(x_list)):\r\n",
        "\ty0_x_list = x_list[i][1] + x_list[i][0]*x0_gd\r\n",
        "\tplt.plot(x0_gd, y0_x_list, color='black', alpha = 0.2)"
      ],
      "execution_count": null,
      "outputs": []
    },
    {
      "cell_type": "code",
      "metadata": {
        "id": "XnPlkNlPbwyS"
      },
      "source": [
        "# Draw animation\r\n",
        "line, = ax.plot([],[], color = \"blue\")\r\n",
        "def update(i):\r\n",
        "\ty0_gd = x_list[i][0][0]*x0_gd + x_list[i][1][0] \r\n",
        "\tline.set_data(x0_gd, y0_gd)\r\n",
        "\treturn line,"
      ],
      "execution_count": null,
      "outputs": []
    },
    {
      "cell_type": "code",
      "metadata": {
        "id": "eI58IsIcbzM3"
      },
      "source": [
        "iters = np.arange(1,len(x_list), 1)\r\n",
        "line_ani = anm.FuncAnimation(fig1, update, iters, interval=50, blit=True)"
      ],
      "execution_count": null,
      "outputs": []
    },
    {
      "cell_type": "code",
      "metadata": {
        "id": "QPG8j9zi2CpS"
      },
      "source": [
        "#legend for plot\r\n",
        "plt.legend(('Value in each GD iteration', 'Solution by formular', 'Inital value for GD'), loc=(0.52, 0.01))\r\n",
        "ltext = plt.gca().get_legend().get_texts()\r\n",
        "\r\n",
        "plt.show()"
      ],
      "execution_count": null,
      "outputs": []
    }
  ]
}