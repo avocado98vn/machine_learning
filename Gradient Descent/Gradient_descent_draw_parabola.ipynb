{
  "nbformat": 4,
  "nbformat_minor": 0,
  "metadata": {
    "colab": {
      "name": "Gradient_descent_draw_parabola.ipynb",
      "provenance": [],
      "authorship_tag": "ABX9TyPaIoaJOMjH0cpFNA4H8M3f",
      "include_colab_link": true
    },
    "kernelspec": {
      "name": "python3",
      "display_name": "Python 3"
    }
  },
  "cells": [
    {
      "cell_type": "markdown",
      "metadata": {
        "id": "view-in-github",
        "colab_type": "text"
      },
      "source": [
        "<a href=\"https://colab.research.google.com/github/avocado98vn/machine_learning/blob/main/Gradient%20Descent/Gradient_descent_draw_parabola.ipynb\" target=\"_parent\"><img src=\"https://colab.research.google.com/assets/colab-badge.svg\" alt=\"Open In Colab\"/></a>"
      ]
    },
    {
      "cell_type": "markdown",
      "metadata": {
        "id": "3H4K8eQHfZ2g"
      },
      "source": [
        "After learning how to calculate gradient descent, draw lines, I edited the code and the data that we can draw a parabola with animation through points."
      ]
    },
    {
      "cell_type": "code",
      "metadata": {
        "id": "rXP4Bjo1eqvl"
      },
      "source": [
        "import numpy as np\r\n",
        "import matplotlib.pyplot as plt\r\n",
        "import matplotlib.animation as anm\r\n",
        "from sklearn import linear_model"
      ],
      "execution_count": null,
      "outputs": []
    },
    {
      "cell_type": "code",
      "metadata": {
        "id": "4A0PfFJAesU2"
      },
      "source": [
        "def cost(x):\r\n",
        "    m = A.shape[0]\r\n",
        "    return 0.5/m * np.linalg.norm(A.dot(x) - b, 2)**2"
      ],
      "execution_count": null,
      "outputs": []
    },
    {
      "cell_type": "code",
      "metadata": {
        "id": "w81LPwTDetsu"
      },
      "source": [
        "def grad(x):\r\n",
        "    m = A.shape[0]\r\n",
        "    return (A.T.dot(A.dot(x)-b))/m"
      ],
      "execution_count": null,
      "outputs": []
    },
    {
      "cell_type": "code",
      "metadata": {
        "id": "qQ6gKNXDevf3"
      },
      "source": [
        "def check_grad(x):\r\n",
        "    eps = 1e-4\r\n",
        "    g = np.zeros_like(x)\r\n",
        "    for i in range(len(x)):\r\n",
        "        x1 = x.copy()\r\n",
        "        x2 = x.copy()\r\n",
        "        x1[i] += eps\r\n",
        "        x2[i] -= eps\r\n",
        "        g[i] = (cost(x1) - cost(x2))/2*eps\r\n",
        "    g_grad = grad(x)\r\n",
        "    if np.linalg.norm(g - g_grad) > 1e-5:\r\n",
        "        print(\"Warning!\")"
      ],
      "execution_count": null,
      "outputs": []
    },
    {
      "cell_type": "code",
      "metadata": {
        "id": "GdzBkanuexkl"
      },
      "source": [
        "def gradient_descent(x_init, learning_rate, iteration):\r\n",
        "    m = A.shape[0]\r\n",
        "    x_list = [x_init]\r\n",
        "    for i in range(iteration):\r\n",
        "        x_new = x_list[-1] - learning_rate * grad(x_list[-1])\r\n",
        "        if np.linalg.norm(grad(x_new))/m < 0.2:\r\n",
        "            break\r\n",
        "        x_list.append(x_new)\r\n",
        "    return x_list"
      ],
      "execution_count": null,
      "outputs": []
    },
    {
      "cell_type": "code",
      "metadata": {
        "id": "_KLnXDAYe0WT"
      },
      "source": [
        "# random data\r\n",
        "b = np.array([[2, 5, 7, 9, 11, 16, 19, 23, 22, 29, 29, 35, 37, 40, 46, 42, 39, 31, 30, 28, 20, 15, 10, 6]]).T\r\n",
        "A = np.array([[2, 3, 4, 5, 6, 7, 8, 9, 10, 11, 12, 13, 14, 15, 16, 17, 18, 19, 20, 21, 22, 23, 24, 25]]).T"
      ],
      "execution_count": null,
      "outputs": []
    },
    {
      "cell_type": "code",
      "metadata": {
        "id": "R8D-83Pse136"
      },
      "source": [
        "#Visualize Data\r\n",
        "fig = plt.figure(\"Homework!\")\r\n",
        "ax = plt.axes(xlim=(-10,50), ylim = (-10,50))\r\n",
        "plt.plot(A, b, 'ro')"
      ],
      "execution_count": null,
      "outputs": []
    },
    {
      "cell_type": "code",
      "metadata": {
        "id": "fX1pA9zKe3jJ"
      },
      "source": [
        "#Create square\r\n",
        "x_square = np.array([A[:,0]**2]).T\r\n",
        "A = np.concatenate((x_square, A), axis = 1)"
      ],
      "execution_count": null,
      "outputs": []
    },
    {
      "cell_type": "code",
      "metadata": {
        "id": "M3q7vjFbe5R_"
      },
      "source": [
        "# Create vector 1\r\n",
        "ones = np.ones((A.shape[0], 1), dtype=np.int8)"
      ],
      "execution_count": null,
      "outputs": []
    },
    {
      "cell_type": "code",
      "metadata": {
        "id": "qgvDG1dte7ZX"
      },
      "source": [
        "# Combine 1 and A\r\n",
        "A = np.concatenate((A, ones), axis = 1)"
      ],
      "execution_count": null,
      "outputs": []
    },
    {
      "cell_type": "code",
      "metadata": {
        "id": "hhaUfdx8fDLT"
      },
      "source": [
        "# Use formula\r\n",
        "x = np.linalg.inv(A.transpose().dot(A)).dot(A.transpose()).dot(b)"
      ],
      "execution_count": null,
      "outputs": []
    },
    {
      "cell_type": "code",
      "metadata": {
        "id": "8wuCelXQfEet"
      },
      "source": [
        "# Test data to draw\r\n",
        "x0 = np.linspace(1, 46, 10000)\r\n",
        "y0 = x[0][0]*x0*x0+ x[1][0]*x0 + x[2][0]\r\n",
        "plt.plot(x0, y0, color='green')"
      ],
      "execution_count": null,
      "outputs": []
    },
    {
      "cell_type": "code",
      "metadata": {
        "id": "MZx60k8WfIIk"
      },
      "source": [
        "#Random initial line\r\n",
        "x_init = np.array([[-2.],\r\n",
        "                   [5.],\r\n",
        "                   [-2.]])\r\n",
        "y_init = x[0][0]*x_init*x_init + x[1][0]*x_init + x[2][0]\r\n",
        "plt.plot(x_init, y_init, color=\"black\")\r\n"
      ],
      "execution_count": null,
      "outputs": []
    },
    {
      "cell_type": "code",
      "metadata": {
        "id": "IxkSgiSMfJrl"
      },
      "source": [
        "iteration = 70\r\n",
        "learning_rate = 0.000001\r\n",
        "x_list = gradient_descent(x_init, learning_rate, iteration)"
      ],
      "execution_count": null,
      "outputs": []
    },
    {
      "cell_type": "code",
      "metadata": {
        "id": "flnzQtaLfLhj"
      },
      "source": [
        "# #plot black x_list\r\n",
        "for i in range(len(x_list)):\r\n",
        "    y0_x_list = x_list[i][0]*x0*x0 + x_list[i][1]*x0 + x_list[i][2]\r\n",
        "    plt.plot(x0, y0_x_list, color='black', alpha = 0.3)"
      ],
      "execution_count": null,
      "outputs": []
    },
    {
      "cell_type": "code",
      "metadata": {
        "id": "ik6FMAu7fLPT"
      },
      "source": [
        "# Draw animation\r\n",
        "line, = ax.plot([], [], color = \"blue\")\r\n",
        "def update(i):\r\n",
        "    y0_gd = x_list[i][1][0]*x0 + x_list[i][0][0]*x0*x0 + x_list[i][2][0]\r\n",
        "    line.set_data(x0, y0_gd)\r\n",
        "    return line,"
      ],
      "execution_count": null,
      "outputs": []
    },
    {
      "cell_type": "code",
      "metadata": {
        "id": "b5AWbYxzfQ2h"
      },
      "source": [
        "iters = np.arange(1, len(x_list), 1)\r\n",
        "line_ani = anm.FuncAnimation(fig, update, iters, interval=50, blit=True)"
      ],
      "execution_count": null,
      "outputs": []
    },
    {
      "cell_type": "code",
      "metadata": {
        "id": "7HCzBGc1ejgn"
      },
      "source": [
        "#legend for plot\r\n",
        "plt.legend(('Value in each GD iteration', 'Solution by formular', 'Inital value for GD'), loc=(0.528, 0.815))\r\n",
        "ltext = plt.gca().get_legend().get_texts()\r\n",
        "\r\n",
        "plt.show()"
      ],
      "execution_count": null,
      "outputs": []
    }
  ]
}