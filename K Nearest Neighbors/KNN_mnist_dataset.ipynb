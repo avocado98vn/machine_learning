{
  "nbformat": 4,
  "nbformat_minor": 0,
  "metadata": {
    "colab": {
      "name": "KNN_mnist_dataset.ipynb",
      "provenance": [],
      "collapsed_sections": [],
      "authorship_tag": "ABX9TyMoHzR6plxlG9Kb+OsFXY9b",
      "include_colab_link": true
    },
    "kernelspec": {
      "name": "python3",
      "display_name": "Python 3"
    }
  },
  "cells": [
    {
      "cell_type": "markdown",
      "metadata": {
        "id": "view-in-github",
        "colab_type": "text"
      },
      "source": [
        "<a href=\"https://colab.research.google.com/github/avocado98vn/machine_learning/blob/main/K%20Nearest%20Neighbors/KNN_mnist_dataset.ipynb\" target=\"_parent\"><img src=\"https://colab.research.google.com/assets/colab-badge.svg\" alt=\"Open In Colab\"/></a>"
      ]
    },
    {
      "cell_type": "markdown",
      "metadata": {
        "id": "F8EUWVv5yGwh"
      },
      "source": [
        "KNN Mnist dataset for handwritten digit recogniztion."
      ]
    },
    {
      "cell_type": "code",
      "metadata": {
        "id": "YBQlOK45xncy"
      },
      "source": [
        "from sklearn import datasets, neighbors\r\n",
        "import numpy as np\r\n",
        "from sklearn.model_selection import train_test_split\r\n",
        "from sklearn.metrics import accuracy_score\r\n",
        "import matplotlib.pyplot as plt"
      ],
      "execution_count": null,
      "outputs": []
    },
    {
      "cell_type": "code",
      "metadata": {
        "id": "4cJhLCJZxoq5"
      },
      "source": [
        "digit = datasets.load_digits()\r\n",
        "digit_X = digit.data # data \r\n",
        "digit_y = digit.target # label"
      ],
      "execution_count": null,
      "outputs": []
    },
    {
      "cell_type": "code",
      "metadata": {
        "id": "i0cKyZu5xpzB"
      },
      "source": [
        "randIndex = np.arange(digit_X.shape[0])\r\n",
        "np.random.shuffle(randIndex)"
      ],
      "execution_count": null,
      "outputs": []
    },
    {
      "cell_type": "code",
      "metadata": {
        "id": "KDo9bQOjxq9t"
      },
      "source": [
        "digit_X = digit_X[randIndex]\r\n",
        "digit_y = digit_y[randIndex]"
      ],
      "execution_count": null,
      "outputs": []
    },
    {
      "cell_type": "code",
      "metadata": {
        "id": "pK0PpFH0xsbW"
      },
      "source": [
        "X_train, X_test, y_train, y_test = train_test_split(digit_X, digit_y, test_size=360)"
      ],
      "execution_count": null,
      "outputs": []
    },
    {
      "cell_type": "code",
      "metadata": {
        "id": "6SBvyqrKxtoB"
      },
      "source": [
        "knn = neighbors.KNeighborsClassifier(n_neighbors = 5)\r\n",
        "knn.fit(X_train, y_train)\r\n",
        "y_predict = knn.predict(X_test)"
      ],
      "execution_count": null,
      "outputs": []
    },
    {
      "cell_type": "code",
      "metadata": {
        "id": "3wi2cjtUxu1p"
      },
      "source": [
        "accuracy = accuracy_score(y_predict, y_test)\r\n",
        "print(accuracy)"
      ],
      "execution_count": null,
      "outputs": []
    },
    {
      "cell_type": "code",
      "metadata": {
        "id": "Mz7pZG5Ixh9W"
      },
      "source": [
        "# Test 1 image\r\n",
        "plt.gray()\r\n",
        "plt.imshow(X_test[0].reshape(8, 8))\r\n",
        "print(knn.predict(X_test[0].reshape(1, -1)))\r\n",
        "plt.show()"
      ],
      "execution_count": null,
      "outputs": []
    }
  ]
}