{
  "nbformat": 4,
  "nbformat_minor": 0,
  "metadata": {
    "colab": {
      "name": "KNN_iris_flower_manual_sort.ipynb",
      "provenance": [],
      "authorship_tag": "ABX9TyOjAjhFoUPJo9Mr2nqoF8fr",
      "include_colab_link": true
    },
    "kernelspec": {
      "name": "python3",
      "display_name": "Python 3"
    }
  },
  "cells": [
    {
      "cell_type": "markdown",
      "metadata": {
        "id": "view-in-github",
        "colab_type": "text"
      },
      "source": [
        "<a href=\"https://colab.research.google.com/github/avocado98vn/machine_learning/blob/main/K%20Nearest%20Neighbors/KNN_iris_flower_manual_sort.ipynb\" target=\"_parent\"><img src=\"https://colab.research.google.com/assets/colab-badge.svg\" alt=\"Open In Colab\"/></a>"
      ]
    },
    {
      "cell_type": "code",
      "metadata": {
        "id": "LWoN_G5Steem"
      },
      "source": [
        "from sklearn import datasets\r\n",
        "import numpy as np\r\n",
        "import math\r\n",
        "import operator"
      ],
      "execution_count": null,
      "outputs": []
    },
    {
      "cell_type": "code",
      "metadata": {
        "id": "t-tWFn_FtebW"
      },
      "source": [
        "def calculate_distance(p1, p2):\r\n",
        "\tdimension = len(p1)\r\n",
        "\tdistance = 0\r\n",
        "\r\n",
        "\tfor i in range(dimension):\r\n",
        "\t\tdistance += (p1[i] - p2[i])*(p1[i] - p2[i])\r\n",
        "\r\n",
        "\treturn math.sqrt(distance)"
      ],
      "execution_count": null,
      "outputs": []
    },
    {
      "cell_type": "code",
      "metadata": {
        "id": "tF8SDjmwteZB"
      },
      "source": [
        "def get_k_neighbors(training_X, label_y, point, k):\r\n",
        "\tdistances = []\r\n",
        "\tneighbors = []\r\n",
        "\r\n",
        "\t# calculate distance from point to everything in training_X\r\n",
        "\tfor i in range(len(training_X)):\r\n",
        "\t\tdistance = calculate_distance(training_X[i], point)\r\n",
        "\t\tdistances.append(distance)\r\n",
        "\r\n",
        "\t# position of k smallest distance\r\n",
        "\tindex = []\r\n",
        "\r\n",
        "\t# Get k closet points\r\n",
        "\twhile len(neighbors) < k:\r\n",
        "\t\ti = 0\r\n",
        "\t\tmin_distance = 999999\r\n",
        "\t\tmin_idx = 0\r\n",
        "\t\twhile i < len(distances):\r\n",
        "\t\t\t# Skip the nearest points that have been counted\r\n",
        "\t\t\tif i in index:\r\n",
        "\t\t\t\ti+=1\r\n",
        "\t\t\t\tcontinue\r\n",
        "\r\n",
        "\t\t\t# Update smallest distance and index \r\n",
        "\t\t\tif distances[i] <= min_distance:\r\n",
        "\t\t\t\tmin_distance = distances[i]\r\n",
        "\t\t\t\tmin_idx = i\r\n",
        "\r\n",
        "\t\t\ti+=1\r\n",
        "\r\n",
        "\t\t# Add min index so we skip it in the next iteration\r\n",
        "\t\tindex.append(min_idx)\r\n",
        "\t\tneighbors.append(label_y[min_idx])\r\n",
        "\r\n",
        "\treturn neighbors"
      ],
      "execution_count": null,
      "outputs": []
    },
    {
      "cell_type": "code",
      "metadata": {
        "id": "7LMSKeF4teWY"
      },
      "source": [
        "def highest_votes(labels):\r\n",
        "\tlabels_count = [0, 0, 0]\r\n",
        "\tfor label in labels:\r\n",
        "\t\tlabels_count[label] += 1\r\n",
        "\r\n",
        "\tmax_count = max(labels_count)\r\n",
        "\treturn labels_count.index(max_count)"
      ],
      "execution_count": null,
      "outputs": []
    },
    {
      "cell_type": "code",
      "metadata": {
        "id": "cbUUGjNzteUo"
      },
      "source": [
        "def predict(training_X, label_y, point, k):\r\n",
        "\tneighbors_labels = get_k_neighbors(training_X, label_y, point, k)\r\n",
        "\treturn highest_votes(neighbors_labels)"
      ],
      "execution_count": null,
      "outputs": []
    },
    {
      "cell_type": "code",
      "metadata": {
        "id": "q19l-qM5teJR"
      },
      "source": [
        "def accuracy_score(predicts, labels):\r\n",
        "\ttotal = len(predicts)\r\n",
        "\tcorrect_count = 0\r\n",
        "\tfor i in range(total):\r\n",
        "\t\tif predicts[i] == labels[i]:\r\n",
        "\t\t\tcorrect_count += 1\r\n",
        "\taccuracy = correct_count/total\r\n",
        "\treturn accuracy"
      ],
      "execution_count": null,
      "outputs": []
    },
    {
      "cell_type": "code",
      "metadata": {
        "id": "spwNFUPktd4R"
      },
      "source": [
        "iris = datasets.load_iris()\r\n",
        "iris_X = iris.data # data \r\n",
        "iris_y = iris.target # label"
      ],
      "execution_count": null,
      "outputs": []
    },
    {
      "cell_type": "code",
      "metadata": {
        "id": "NgqFp3EZt2ng"
      },
      "source": [
        "randIndex = np.arange(iris_X.shape[0])\r\n",
        "np.random.shuffle(randIndex)"
      ],
      "execution_count": null,
      "outputs": []
    },
    {
      "cell_type": "code",
      "metadata": {
        "id": "rboVIEfJt4N4"
      },
      "source": [
        "iris_X = iris_X[randIndex]\r\n",
        "iris_y = iris_y[randIndex]"
      ],
      "execution_count": null,
      "outputs": []
    },
    {
      "cell_type": "code",
      "metadata": {
        "id": "zYLvIYigt5yk"
      },
      "source": [
        "X_train = iris_X[:100,:] # 100 training points\r\n",
        "X_test = iris_X[100:,:] # 50 testing points\r\n",
        "y_train = iris_y[:100] # 100 labels of 100 training points\r\n",
        "y_test = iris_y[100:] # 50 labels of 50 testing points"
      ],
      "execution_count": null,
      "outputs": []
    },
    {
      "cell_type": "code",
      "metadata": {
        "id": "oqKvbKCCsqOo"
      },
      "source": [
        "k=5\r\n",
        "y_predict = []\r\n",
        "for p in X_test:\r\n",
        "\tlabel = predict(X_train, y_train, p, k)\r\n",
        "\ty_predict.append(label)\r\n",
        "\r\n",
        "print(y_predict)\r\n",
        "print(y_test)\r\n",
        "\r\n",
        "acc = accuracy_score(y_predict, y_test)\r\n",
        "print(acc)"
      ],
      "execution_count": null,
      "outputs": []
    }
  ]
}