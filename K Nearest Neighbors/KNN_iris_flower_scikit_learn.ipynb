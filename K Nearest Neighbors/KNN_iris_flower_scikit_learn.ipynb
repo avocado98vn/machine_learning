{
  "nbformat": 4,
  "nbformat_minor": 0,
  "metadata": {
    "colab": {
      "name": "KNN_iris_flower_scikit_learn.ipynb",
      "provenance": [],
      "authorship_tag": "ABX9TyN/SuGFYlAG879BkpBnVPbK",
      "include_colab_link": true
    },
    "kernelspec": {
      "name": "python3",
      "display_name": "Python 3"
    }
  },
  "cells": [
    {
      "cell_type": "markdown",
      "metadata": {
        "id": "view-in-github",
        "colab_type": "text"
      },
      "source": [
        "<a href=\"https://colab.research.google.com/github/avocado98vn/machine_learning/blob/main/K%20Nearest%20Neighbors/KNN_iris_flower_scikit_learn.ipynb\" target=\"_parent\"><img src=\"https://colab.research.google.com/assets/colab-badge.svg\" alt=\"Open In Colab\"/></a>"
      ]
    },
    {
      "cell_type": "code",
      "metadata": {
        "id": "QdincCXgxMGT"
      },
      "source": [
        "from sklearn import datasets, neighbors\r\n",
        "import numpy as np\r\n",
        "from sklearn.model_selection import train_test_split\r\n",
        "from sklearn.metrics import accuracy_score"
      ],
      "execution_count": null,
      "outputs": []
    },
    {
      "cell_type": "code",
      "metadata": {
        "id": "qINZnXqkxNSc"
      },
      "source": [
        "iris = datasets.load_iris()\r\n",
        "iris_X = iris.data # data \r\n",
        "iris_y = iris.target # label"
      ],
      "execution_count": null,
      "outputs": []
    },
    {
      "cell_type": "code",
      "metadata": {
        "id": "Z5LeipM4xOSy"
      },
      "source": [
        "randIndex = np.arange(iris_X.shape[0])\r\n",
        "np.random.shuffle(randIndex)"
      ],
      "execution_count": null,
      "outputs": []
    },
    {
      "cell_type": "code",
      "metadata": {
        "id": "ZOkKkO7rxPjB"
      },
      "source": [
        "iris_X = iris_X[randIndex]\r\n",
        "iris_y = iris_y[randIndex]"
      ],
      "execution_count": null,
      "outputs": []
    },
    {
      "cell_type": "code",
      "metadata": {
        "id": "UTK28E5dxRAe"
      },
      "source": [
        "X_train, X_test, y_train, y_test = train_test_split(iris_X, iris_y, test_size=50)"
      ],
      "execution_count": null,
      "outputs": []
    },
    {
      "cell_type": "code",
      "metadata": {
        "id": "N15MZ9khxSnq"
      },
      "source": [
        "knn = neighbors.KNeighborsClassifier(n_neighbors = 5)\r\n",
        "knn.fit(X_train, y_train)\r\n",
        "y_predict = knn.predict(X_test)"
      ],
      "execution_count": null,
      "outputs": []
    },
    {
      "cell_type": "code",
      "metadata": {
        "id": "Amnc88Zkv-6b"
      },
      "source": [
        "accuracy = accuracy_score(y_predict, y_test)\r\n",
        "print(accuracy)"
      ],
      "execution_count": null,
      "outputs": []
    }
  ]
}