{
  "nbformat": 4,
  "nbformat_minor": 0,
  "metadata": {
    "colab": {
      "name": "K-Means_Image_processing.ipynb",
      "provenance": [],
      "authorship_tag": "ABX9TyO3/Y4uq+eulG9Cj6Z9hHyI",
      "include_colab_link": true
    },
    "kernelspec": {
      "name": "python3",
      "display_name": "Python 3"
    }
  },
  "cells": [
    {
      "cell_type": "markdown",
      "metadata": {
        "id": "view-in-github",
        "colab_type": "text"
      },
      "source": [
        "<a href=\"https://colab.research.google.com/github/avocado98vn/machine_learning/blob/main/K-Means%20-%20Image%20Processing/K_Means_Image_processing.ipynb\" target=\"_parent\"><img src=\"https://colab.research.google.com/assets/colab-badge.svg\" alt=\"Open In Colab\"/></a>"
      ]
    },
    {
      "cell_type": "markdown",
      "metadata": {
        "id": "2RrMSalYSTpC"
      },
      "source": [
        "A program that applies the K-Means algorithm to image processing."
      ]
    },
    {
      "cell_type": "code",
      "metadata": {
        "id": "LcYR8VbMSTFO"
      },
      "source": [
        "import matplotlib.pyplot as plt\r\n",
        "from sklearn.cluster import KMeans\r\n",
        "import numpy"
      ],
      "execution_count": null,
      "outputs": []
    },
    {
      "cell_type": "markdown",
      "metadata": {
        "id": "cMCrej4Dr1YO"
      },
      "source": [
        "Importing an image then takes the image's dimension."
      ]
    },
    {
      "cell_type": "code",
      "metadata": {
        "id": "Dx-c9vqqSgbP"
      },
      "source": [
        "img = plt.imread('d.png')\r\n",
        "width = img.shape[0]\r\n",
        "height = img.shape[1]\r\n",
        "nums = img.shape[2]"
      ],
      "execution_count": null,
      "outputs": []
    },
    {
      "cell_type": "markdown",
      "metadata": {
        "id": "dC3U5S8Vu_R8"
      },
      "source": [
        "reshape this image then apply the k-means algorithm of scikit-learn to detect the color groups contained in the image, ..."
      ]
    },
    {
      "cell_type": "code",
      "metadata": {
        "id": "PASnUPcGSjtw"
      },
      "source": [
        "img = img.reshape(width*height, nums)\r\n",
        "kmeans = KMeans(n_clusters=3).fit(img)\r\n",
        "\r\n",
        "labels = kmeans.predict(img)\r\n",
        "clusters = kmeans.cluster_centers_"
      ],
      "execution_count": null,
      "outputs": []
    },
    {
      "cell_type": "markdown",
      "metadata": {
        "id": "BSD-lr2twjsR"
      },
      "source": [
        "Copy the img's dimension to img2."
      ]
    },
    {
      "cell_type": "code",
      "metadata": {
        "id": "WJfKjOYUSmwc"
      },
      "source": [
        "img2 = numpy.zeros_like(img)"
      ],
      "execution_count": null,
      "outputs": []
    },
    {
      "cell_type": "markdown",
      "metadata": {
        "id": "JuX6xsNNwxsq"
      },
      "source": [
        "The loop for supplanting each vector of img2 to the corresponding cluster."
      ]
    },
    {
      "cell_type": "code",
      "metadata": {
        "id": "qMtK2BWbSpGC"
      },
      "source": [
        "for i in range(len(img2)):\r\n",
        "    img2[i] = clusters[labels[i]]"
      ],
      "execution_count": null,
      "outputs": []
    },
    {
      "cell_type": "markdown",
      "metadata": {
        "id": "XW4lyNg_0y_s"
      },
      "source": [
        "reshape img2 then show it."
      ]
    },
    {
      "cell_type": "code",
      "metadata": {
        "id": "pN3Ox0A0SqiR"
      },
      "source": [
        "img2 = img2.reshape(width, height, nums)"
      ],
      "execution_count": null,
      "outputs": []
    },
    {
      "cell_type": "code",
      "metadata": {
        "id": "tyZcRBuiSPxU"
      },
      "source": [
        "plt.imshow(img2)\r\n",
        "plt.show()"
      ],
      "execution_count": null,
      "outputs": []
    }
  ]
}